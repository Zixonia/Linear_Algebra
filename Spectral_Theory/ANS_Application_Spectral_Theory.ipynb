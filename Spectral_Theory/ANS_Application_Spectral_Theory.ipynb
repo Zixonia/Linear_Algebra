{
 "cells": [
  {
   "cell_type": "markdown",
   "id": "a57b61dc-180a-4a00-82df-fe6aaf1c997a",
   "metadata": {},
   "source": [
    "Assignment\n",
    "\n",
    "- Read about spectral clustering module in Python's Scikit Learn Package.\n",
    "\n",
    "- Choose a dataset from https://datasetsearch.research.google.com/.\n",
    "\n",
    "- Perform spectral clustering from your chosen dataset, derive conclusions from the result.\n",
    "\n",
    "- NOTE: You should have a different dataset from your classmates, otherwise both of you will recieve a failing grade.\n",
    "\n",
    "- Push your codes to your github account. "
   ]
  },
  {
   "cell_type": "code",
   "execution_count": null,
   "id": "3308d4c7",
   "metadata": {},
   "outputs": [],
   "source": []
  },
  {
   "cell_type": "markdown",
   "id": "7d51c958-2481-4967-b155-09bdbc8312b0",
   "metadata": {},
   "source": [
    "Assignment 2\n",
    "\n",
    "Read about the application of network science\n",
    "\n",
    "1. https://medium.com/social-media-theories-ethics-and-analytics/network-analysis-from-social-media-data-with-networkx-13605d711590\n",
    "\n",
    "2. http://snap.stanford.edu/class/cs224w-2011/proj/tbower_Finalwriteup_v1.pdf\n",
    "\n",
    "3. Based on the readings provided; think about an interesting topic that you can find in Reddit (Not COVID-19, its already given in the reading material think of something else).\n",
    "\n",
    "4. On the topic of your choosing develop a hypothesis and conduct a social network analysis. Find the eigenvector centrality. Which of the nodes are central in terms of eigenvectors? Develop a conclusion from your hypothesis."
   ]
  },
  {
   "cell_type": "code",
   "execution_count": null,
   "id": "28d492b0-083e-416a-b6cf-37403c74b822",
   "metadata": {},
   "outputs": [],
   "source": []
  }
 ],
 "metadata": {
  "kernelspec": {
   "display_name": "Python 3 (ipykernel)",
   "language": "python",
   "name": "python3"
  },
  "language_info": {
   "codemirror_mode": {
    "name": "ipython",
    "version": 3
   },
   "file_extension": ".py",
   "mimetype": "text/x-python",
   "name": "python",
   "nbconvert_exporter": "python",
   "pygments_lexer": "ipython3",
   "version": "3.8.16"
  }
 },
 "nbformat": 4,
 "nbformat_minor": 5
}
