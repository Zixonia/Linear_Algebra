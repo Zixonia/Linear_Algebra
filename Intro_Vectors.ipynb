{
 "cells": [
  {
   "cell_type": "markdown",
   "id": "b9eafa58",
   "metadata": {},
   "source": [
    "# Assignment\n",
    "---\n",
    "Instructions:<br>\n",
    "1. Create a folder in your github account titled Intro_Vectors.<br>\n",
    "2. Use Jupyterhub notebook to answer the problems.<br>\n",
    "3. Rename Jupyter notebook to Intro_Vectors.ipynb.<br>\n",
    "4. Show both manual and pythonic solutions.<br>\n",
    "5. For manual solutions write it in Latex format.<br>"
   ]
  },
  {
   "cell_type": "markdown",
   "id": "2a977f5f",
   "metadata": {},
   "source": [
    "1. Let $\\textbf{u} = (1, -2, 4)$ and $\\textbf{v} = (3,5,1)$ $\\textbf{w} = (2,1,-3)$ find:<br>"
   ]
  },
  {
   "cell_type": "markdown",
   "id": "6e0eae52",
   "metadata": {},
   "source": [
    "a. $3\\textbf{u}-2\\textbf{v}$<br>\n",
    "\n",
    "**Manual Solution**\n",
    "$$\n",
    "\\begin{align*}\n",
    "    3\\textbf{u} - 2\\textbf{v} &= 3(1, -2, 4) - 2(3, 5, 1)\\\\ \n",
    "        &= (3, -6, 12) - (6, 10, 2)\\\\\n",
    "        &= (-3, -16, 10)\n",
    "\\end{align*}\n",
    "$$\n",
    "**Pythonic Solution**"
   ]
  },
  {
   "cell_type": "code",
   "execution_count": 33,
   "id": "60e268e5",
   "metadata": {},
   "outputs": [
    {
     "name": "stdout",
     "output_type": "stream",
     "text": [
      "3u - 2v = [ -3 -16  10]\n"
     ]
    }
   ],
   "source": [
    "import numpy as np\n",
    "\n",
    "u = np.array([1, -2, 4])\n",
    "v = np.array([3,5,1])\n",
    "w = np.array([2,1,-3])\n",
    "\n",
    "print(\"3u - 2v =\", 3*u - 2*v)"
   ]
  },
  {
   "cell_type": "markdown",
   "id": "2ce96d2c",
   "metadata": {},
   "source": [
    "b. $5\\textbf{u}+3\\textbf{v}-4\\textbf{w}$<br>\n",
    "**Manual Solution**\n",
    "$$\n",
    "\\begin{align*}\n",
    "    5\\textbf{u} + 3\\textbf{v} - 4\\textbf{w} &= 5(1, -2, 4) + 3(3, 5, 1) - 4(2, 1, -3) \\\\\n",
    "        &= (5, -10, 20) + (9, 15, 3) - (8, 4, -12) \\\\\n",
    "        &= (6, 1, 35)\n",
    "\\end{align*}\n",
    "$$\n",
    "**Pythonic Solution**"
   ]
  },
  {
   "cell_type": "code",
   "execution_count": 5,
   "id": "914a8a70",
   "metadata": {},
   "outputs": [
    {
     "name": "stdout",
     "output_type": "stream",
     "text": [
      "5u + 3v - 4w = [ 6  1 35]\n"
     ]
    }
   ],
   "source": [
    "import numpy as np\n",
    "\n",
    "u = np.array([1, -2, 4])\n",
    "v = np.array([3,5,1])\n",
    "w = np.array([2,1,-3])\n",
    "\n",
    "print(\"5u + 3v - 4w =\",5*u + 3*v - 4*w)\n"
   ]
  },
  {
   "cell_type": "markdown",
   "id": "242613f6",
   "metadata": {},
   "source": [
    "c. $\\textbf{u} \\cdotp \\textbf{v}$,$\\textbf{v} \\cdotp \\textbf{w}$, $\\textbf{u} \\cdotp \\textbf{w}$<br>\n",
    "**Manual Solution**\n",
    "$$\n",
    "\\begin{align*}\n",
    "    \\textbf{u} \\cdotp \\textbf{v} &= (1)(3) + (-2)(5) + (4)(1)\\\\\n",
    "    &= 3 - 10 + 4\\\\\n",
    "    &= -3 \\\\\n",
    "    \\textbf{v} \\cdotp \\textbf{w} &= (3)(2) + (5)(1) + (1)(-3)\\\\ \n",
    "    &= 6 + 5 - 3\\\\\n",
    "    &= 8 \\\\\n",
    "    \\textbf{u} \\cdotp \\textbf{w} &= (1)(2) + (-2)(1) + (4)(-3)\\\\\n",
    "    &= 2 - 2 - 12 \\\\\n",
    "    &= -12\n",
    "\\end{align*}\n",
    "$$\n",
    "**Pythonic Solution**"
   ]
  },
  {
   "cell_type": "code",
   "execution_count": 6,
   "id": "41cb993a",
   "metadata": {},
   "outputs": [
    {
     "name": "stdout",
     "output_type": "stream",
     "text": [
      "u.v = -3\n",
      "v.w = 8\n",
      "u.w = -12\n"
     ]
    }
   ],
   "source": [
    "import numpy as np\n",
    "\n",
    "u = np.array([1, -2, 4])\n",
    "v = np.array([3,5,1])\n",
    "w = np.array([2,1,-3])\n",
    "\n",
    "print(\"u.v =\", u.dot(v))\n",
    "print(\"v.w =\", v.dot(w))\n",
    "print(\"u.w =\", u.dot(w))"
   ]
  },
  {
   "cell_type": "markdown",
   "id": "c8484a8f",
   "metadata": {},
   "source": [
    "d. ||$\\textbf{u}$||, ||$\\textbf{v}$||, ||$\\textbf{w}$||<br>\n",
    "**Manual Solution**\n",
    "$$\n",
    "\\begin{align*}\n",
    "    ||\\textbf{u}|| &= \\sqrt{1^2 + (-2)^2 + 4^2} \\\\\n",
    "    &= \\sqrt{1 + 4 + 16} \\\\\n",
    "    &= \\sqrt{21} \\\\\n",
    "    ||\\textbf{v}|| &= \\sqrt{3^2 + 5^2 + 1^2} \\\\\n",
    "    &= \\sqrt{9 + 25 + 1} \\\\\n",
    "    &= \\sqrt{35} \\\\\n",
    "    ||\\textbf{w}|| &= \\sqrt{2^2 + 1^2 + (-3)^2} \\\\\n",
    "    &= \\sqrt{4 + 1 + 9} \\\\\n",
    "    &= \\sqrt{14}\n",
    "\\end{align*}\n",
    "$$\n",
    "**Pythonic Solution**"
   ]
  },
  {
   "cell_type": "code",
   "execution_count": 16,
   "id": "77d00d10",
   "metadata": {},
   "outputs": [
    {
     "name": "stdout",
     "output_type": "stream",
     "text": [
      "||u1|| = 4.58257569495584\n",
      "||u2|| = 4.58257569495584\n",
      "---------------------------\n",
      "||v1|| = 5.916079783099616\n",
      "||v2|| = 5.916079783099616\n",
      "---------------------------\n",
      "||w1|| = 3.7416573867739413\n",
      "||w2|| = 3.7416573867739413\n"
     ]
    }
   ],
   "source": [
    "import numpy as np\n",
    "\n",
    "u = np.array([1, -2, 4])\n",
    "v = np.array([3,5,1])\n",
    "w = np.array([2,1,-3])\n",
    "\n",
    "print(\"||u1|| =\", np.sqrt(21))\n",
    "print(\"||u2|| =\", np.linalg.norm(u)) \n",
    "print(\"---------------------------\")\n",
    "print(\"||v1|| =\", np.sqrt(35))\n",
    "print(\"||v2|| =\", np.linalg.norm(v))\n",
    "print(\"---------------------------\") \n",
    "print(\"||w1|| =\", np.sqrt(14))\n",
    "print(\"||w2|| =\", np.linalg.norm(w))\n"
   ]
  },
  {
   "cell_type": "markdown",
   "id": "544d3760",
   "metadata": {},
   "source": [
    "e. If $\\theta$ is the angle between $\\textbf{u}$  and   $\\textbf{v}$, find $\\cos{\\theta}$.<br>\n",
    "**Manual Solution**\n",
    "$$\n",
    "\\begin{align*}\n",
    "    cos\\ \\theta &= \\frac{\\textbf{u} \\cdotp \\textbf{v}}{||\\textbf{u}||\\ ||\\textbf{v}||} \\\\ \n",
    "        &= \\frac{(1)(3) + (-2)(5) + (4)(1)}{\\sqrt{1^2 + (-2)^2 + 4^2}\\sqrt{3^2 + 5^2 + 1^2}} \\\\\n",
    "        &= \\frac{3 - 10 + 4}{\\sqrt{1 + 4 + 16}\\sqrt{9 + 25 + 1}} \\\\\n",
    "        &= -(\\frac{3}{\\sqrt{21}\\sqrt{35}})\n",
    "\\end{align*}\n",
    "$$\n",
    "**Pythonic Solution**"
   ]
  },
  {
   "cell_type": "code",
   "execution_count": 31,
   "id": "702f1767",
   "metadata": {},
   "outputs": [
    {
     "name": "stdout",
     "output_type": "stream",
     "text": [
      "t1 = -0.11065666703449763\n",
      "t2 = -0.11065666703449763\n"
     ]
    }
   ],
   "source": [
    "import numpy as np\n",
    "\n",
    "u = np.array([1, -2, 4])\n",
    "v = np.array([3,5,1])\n",
    "w = np.array([2,1,-3])\n",
    "\n",
    "print(\"t1 =\", -3 / (np.sqrt(21) * np.sqrt(35)))\n",
    "print(\"t2 =\", u.dot(v) / (np.linalg.norm(u) * np.linalg.norm(v)))"
   ]
  },
  {
   "cell_type": "markdown",
   "id": "3142f306",
   "metadata": {},
   "source": [
    "f. If $\\alpha$ is the angle between $\\textbf{v}$  and   $\\textbf{w}$, find $\\cos{\\alpha}$.<br>\n",
    "**Manual Solution**\n",
    "$$\n",
    "\\begin{align*}\n",
    "    cos\\ \\alpha &= \\frac{\\textbf{v} \\cdotp \\textbf{w}}{||\\textbf{v}||\\ ||\\textbf{w}||} \\\\\n",
    "        &= \\frac{(3)(2) + (5)(1) + (1)(-3)}{\\sqrt{3^2 + 5^2 + 1^2}\\sqrt{2^2 + 1^2 + (-3)^2}} \\\\\n",
    "        &= \\frac{6 + 5 - 3}{\\sqrt{9 + 25 + 1}\\sqrt{4 + 1 + 9}} \\\\\n",
    "        &= \\frac{8}{\\sqrt{35}\\sqrt{14}}\n",
    "\\end{align*}\n",
    "$$\n",
    "**Pythonic Solution**"
   ]
  },
  {
   "cell_type": "code",
   "execution_count": 30,
   "id": "117afceb",
   "metadata": {},
   "outputs": [
    {
     "name": "stdout",
     "output_type": "stream",
     "text": [
      "a1 = 0.36140316116210053\n",
      "a2 = 0.36140316116210053\n"
     ]
    }
   ],
   "source": [
    "import numpy as np\n",
    "\n",
    "u = np.array([1, -2, 4])\n",
    "v = np.array([3,5,1])\n",
    "w = np.array([2,1,-3])\n",
    "\n",
    "print(\"a1 =\", 8 / (np.sqrt(35) * np.sqrt(14)))\n",
    "print(\"a2 =\", v.dot(w) / (np.linalg.norm(v) * np.linalg.norm(w)))"
   ]
  },
  {
   "cell_type": "markdown",
   "id": "297d0372",
   "metadata": {},
   "source": [
    "g. If $\\alpha$ is the angle between $\\textbf{v}$  and   $\\textbf{w}$, find $\\cos{\\alpha}$.<br>\n",
    "**Manual Solution**\n",
    "$$\n",
    "\\begin{align*}\n",
    "    cos\\ \\beta &= \\frac{\\textbf{u} \\cdotp \\textbf{w}}{||\\textbf{u}||\\ ||\\textbf{w}||} \\\\\n",
    "        &= \\frac{(1)(2) + (-2)(1) + (4)(-3)}{\\sqrt{1^2 + (-2)^2 + 4^2}\\sqrt{2^2 + 1^2 + (-3)^2}} \\\\\n",
    "        &= \\frac{2 - 2 - 12}{\\sqrt{1 + 4 + 16}{4 + 1 + 9}} \\\\\n",
    "        &= -(\\frac{12}{\\sqrt{21}\\sqrt{14}})\n",
    "\\end{align*}\n",
    "$$\n",
    "**Pythonic Solution**"
   ]
  },
  {
   "cell_type": "code",
   "execution_count": 29,
   "id": "a61812df",
   "metadata": {},
   "outputs": [
    {
     "name": "stdout",
     "output_type": "stream",
     "text": [
      "a1 = -0.6998542122237653\n",
      "a2 = -0.6998542122237653\n"
     ]
    }
   ],
   "source": [
    "import numpy as np\n",
    "\n",
    "u = np.array([1, -2, 4])\n",
    "v = np.array([3,5,1])\n",
    "w = np.array([2,1,-3])\n",
    "\n",
    "print(\"a1 =\", -12 / (np.sqrt(21) * np.sqrt(14)))\n",
    "print(\"a2 =\", u.dot(w) / (np.linalg.norm(u) * np.linalg.norm(w)))"
   ]
  },
  {
   "cell_type": "markdown",
   "id": "4d6baecd",
   "metadata": {},
   "source": [
    "h. Find $d(\\textbf{u},\\textbf{v})$.<br>\n",
    "**Manual Solution**\n",
    "$$\n",
    "\\begin{align*}\n",
    "    d(\\textbf{u}, \\textbf{v}) &= ||\\textbf{u} - \\textbf{v}|| \\\\\n",
    "        &= \\sqrt{(1 - 3)^2 + (-2 - 5)^2 + (4 - 1)^2} \\\\\n",
    "        &= \\sqrt{(-2)^2 + (-7)^2 + (3)^2} \\\\\n",
    "        &= \\sqrt{4 + 49 + 9} \\\\\n",
    "        &= \\sqrt{62}\n",
    "\\end{align*}\n",
    "$$\n",
    "**Pythonic Solution**"
   ]
  },
  {
   "cell_type": "code",
   "execution_count": 28,
   "id": "f4a15476",
   "metadata": {},
   "outputs": [
    {
     "name": "stdout",
     "output_type": "stream",
     "text": [
      "d1(u,v) = 7.874007874011811\n",
      "d2(u,v) = 7.874007874011811\n"
     ]
    }
   ],
   "source": [
    "import numpy as np\n",
    "\n",
    "u = np.array([1, -2, 4])\n",
    "v = np.array([3,5,1])\n",
    "w = np.array([2,1,-3])\n",
    "\n",
    "print(\"d1(u,v) =\", np.sqrt(62))\n",
    "print(\"d2(u,v) =\", np.linalg.norm(u - v))"
   ]
  },
  {
   "cell_type": "markdown",
   "id": "dd94e011",
   "metadata": {},
   "source": [
    "i. Find $d(\\textbf{w},\\textbf{v})$.<br>\n",
    "**Manual Solution**\n",
    "$$\n",
    "\\begin{align*}\n",
    "    d(\\textbf{w},\\textbf{v}) &= ||\\textbf{w} - \\textbf{v}|| \\\\\n",
    "        &= \\sqrt{(2 - 3)^2 + (1 - 5)^2 + (-3 - 1)^2} \\\\\n",
    "        &= \\sqrt{(-1)^2 + (-4)^2 + (-4)^2} \\\\\n",
    "        &= \\sqrt{1 + 16 + 16} \\\\\n",
    "        &= \\sqrt{33}\n",
    "\\end{align*}\n",
    "$$\n",
    "**Pythonic Solution**"
   ]
  },
  {
   "cell_type": "code",
   "execution_count": 27,
   "id": "ad2f5100",
   "metadata": {},
   "outputs": [
    {
     "name": "stdout",
     "output_type": "stream",
     "text": [
      "d1(w,v) = 5.744562646538029\n",
      "d2(w,v) = 5.744562646538029\n"
     ]
    }
   ],
   "source": [
    "import numpy as np\n",
    "\n",
    "u = np.array([1, -2, 4])\n",
    "v = np.array([3,5,1])\n",
    "w = np.array([2,1,-3])\n",
    "\n",
    "print(\"d1(w,v) =\", np.sqrt(33))\n",
    "print(\"d2(w,v) =\", np.linalg.norm(w - v))"
   ]
  },
  {
   "cell_type": "markdown",
   "id": "1d21400b",
   "metadata": {},
   "source": [
    "j. Find $d(\\textbf{u},\\textbf{w})$. <br>\n",
    "**Manual Solution**\n",
    "$$\n",
    "\\begin{align*}\n",
    "    d(\\textbf{u}, \\textbf{w}) &= ||\\textbf{u} - \\textbf{w}|| \\\\\n",
    "        &= \\sqrt{(1 - 2)^2 + (-2 - 1)^2 + (4 - (-3))^2} \\\\\n",
    "        &= \\sqrt{(-1)^2 + (-3)^2 + (7)^2} \\\\\n",
    "        &= \\sqrt{1 + 9 + 49} \\\\\n",
    "        &= \\sqrt{59}\n",
    "\\end{align*}\n",
    "$$\n",
    "**Pythonic Solution**"
   ]
  },
  {
   "cell_type": "code",
   "execution_count": 26,
   "id": "158922a0",
   "metadata": {},
   "outputs": [
    {
     "name": "stdout",
     "output_type": "stream",
     "text": [
      "d1(u,w) = 7.681145747868608\n",
      "d2(u,w) = 7.681145747868608\n"
     ]
    }
   ],
   "source": [
    "import numpy as np\n",
    "\n",
    "u = np.array([1, -2, 4])\n",
    "v = np.array([3,5,1])\n",
    "w = np.array([2,1,-3])\n",
    "\n",
    "print(\"d1(u,w) =\", np.sqrt(59))\n",
    "print(\"d2(u,w) =\", np.linalg.norm(u - w))"
   ]
  },
  {
   "cell_type": "markdown",
   "id": "fb604b62",
   "metadata": {},
   "source": [
    "k. Find $proj(\\textbf{u},\\textbf{v})$.<br>\n",
    "**Manual Solution**\n",
    "$$\n",
    "\\begin{align*}\n",
    "    proj(\\textbf{u},\\textbf{v}) &= \\frac{\\textbf{u} \\cdotp \\textbf{v}}{||\\textbf{v}||^2}\\textbf{v} \\\\\n",
    "        &= \\frac{(1)(3) + (-2)(5) + (4)(1)}{\\sqrt{3^2 + 5^2 + 1^2}^2}(3, 5, 1) \\\\\n",
    "        &= \\frac{3 - 10 + 4}{\\sqrt{9 + 25 + 1}^2}(3, 5, 1) \\\\\n",
    "        &= \\frac{-3}{\\sqrt{35}^2}(3, 5, 1) \\\\\n",
    "        &= \\frac{-3}{35}(3, 5, 1) \\\\\n",
    "        &= (-(\\frac{9}{35}),-(\\frac{3}{7}),-\\frac{3}{35})\n",
    "\\end{align*}\n",
    "$$\n",
    "**Pythonic Solution**"
   ]
  },
  {
   "cell_type": "code",
   "execution_count": 24,
   "id": "8a0ab935",
   "metadata": {},
   "outputs": [
    {
     "name": "stdout",
     "output_type": "stream",
     "text": [
      "proj(u,v) = [-0.25714286 -0.42857143 -0.08571429]\n",
      "proj(u,v) = [-0.25714286 -0.42857143 -0.08571429]\n"
     ]
    }
   ],
   "source": [
    "import numpy as np\n",
    "\n",
    "u = np.array([1, -2, 4])\n",
    "v = np.array([3,5,1])\n",
    "w = np.array([2,1,-3])\n",
    "\n",
    "print(\"p1(u,v) =\", np.array([-9/35, -3/7, -3/35]))\n",
    "print(\"p2(u,v) =\", u.dot(v) * v / np.linalg.norm(v) ** 2)"
   ]
  },
  {
   "cell_type": "markdown",
   "id": "59b8f638",
   "metadata": {},
   "source": [
    "l. Find $proj(\\textbf{w},\\textbf{v})$.<br>\n",
    "**Manual Solution**\n",
    "$$\n",
    "\\begin{align*}\n",
    "    proj(\\textbf{w},\\textbf{v}) &= \\frac{\\textbf{w} \\cdotp \\textbf{v}}{||\\textbf{v}||^2}\\textbf{v} \\\\\n",
    "        &= \\frac{(2)(3) + (1)(5) + (-3)(1)}{\\sqrt{3^2 + 5^2 + 1^2}^2}(3, 5, 1) \\\\\n",
    "        &= \\frac{6 + 5 - 3}{\\sqrt{9 + 25 + 1}^2}(3, 5, 1) \\\\\n",
    "        &= \\frac{8}{\\sqrt{35}^2}(3, 5, 1) \\\\\n",
    "        &= \\frac{8}{35}(3, 5, 1) \\\\\n",
    "        &= (\\frac{24}{35},1\\frac{1}{7},\\frac{8}{35})\n",
    "\\end{align*}\n",
    "$$\n",
    "**Pythonic Solution**"
   ]
  },
  {
   "cell_type": "code",
   "execution_count": 25,
   "id": "4d810217",
   "metadata": {},
   "outputs": [
    {
     "name": "stdout",
     "output_type": "stream",
     "text": [
      "p1(u,v) = [0.68571429 1.14285714 0.22857143]\n",
      "p2(u,v) = [0.68571429 1.14285714 0.22857143]\n"
     ]
    }
   ],
   "source": [
    "import numpy as np\n",
    "\n",
    "u = np.array([1, -2, 4])\n",
    "v = np.array([3,5,1])\n",
    "w = np.array([2,1,-3])\n",
    "\n",
    "print(\"p1(u,v) =\", np.array([24/35, 8/7, 8/35]))\n",
    "print(\"p2(u,v) =\", w.dot(v) * v / np.linalg.norm(v) ** 2)"
   ]
  },
  {
   "cell_type": "markdown",
   "id": "8d59fa91",
   "metadata": {},
   "source": [
    "m. Find $proj(\\textbf{u},\\textbf{w})$. <br> \n",
    " **Manual Solution**\n",
    "$$\n",
    "\\begin{align*}\n",
    "    proj(\\textbf{u},\\textbf{w}) &= \\frac{\\textbf{u} \\cdotp \\textbf{w}}{||\\textbf{w}||^2}\\textbf{w} \\\\\n",
    "        &= \\frac{(1)(2) + (-2)(1) + (4)(-3)}{\\sqrt{2^2 + 1^2 + (-3)^2}^2}(2, 1, -3) \\\\\n",
    "        &= \\frac{2 - 2 - 12}{\\sqrt{4 + 1 + 9}^2}(2, 1, -3) \\\\\n",
    "        &= \\frac{-12}{\\sqrt{14}^2}(2, 1, -3) \\\\\n",
    "        &= \\frac{-12}{14}(2, 1, -3) \\\\\n",
    "        &= \\frac{-6}{7}(2, 1, -3) \\\\\n",
    "        &= (-(1\\frac{5}{7}),-(\\frac{6}{7}),2\\frac{4}{7})\n",
    "\\end{align*}\n",
    "$$\n",
    "**Pythonic Solution**"
   ]
  },
  {
   "cell_type": "code",
   "execution_count": 32,
   "id": "594de9c5",
   "metadata": {},
   "outputs": [
    {
     "name": "stdout",
     "output_type": "stream",
     "text": [
      "p1(u,v) = [-1.71428571 -0.85714286  2.57142857]\n",
      "p2(u,v) = [-1.71428571 -0.85714286  2.57142857]\n"
     ]
    }
   ],
   "source": [
    "import numpy as np\n",
    "\n",
    "u = np.array([1, -2, 4])\n",
    "v = np.array([3,5,1])\n",
    "w = np.array([2,1,-3])\n",
    "\n",
    "print(\"p1(u,v) =\", np.array([-12/7, -6/7, 18/7]))\n",
    "print(\"p2(u,v) =\", u.dot(w) * w / np.linalg.norm(w) ** 2)"
   ]
  },
  {
   "cell_type": "markdown",
   "id": "29eef32e",
   "metadata": {},
   "source": [
    "<br>\n",
    "<br>\n",
    "\n",
    "2. Repeat problem 1 with the following column vectors:\n",
    "\\begin{align}\n",
    "    \\textbf{u} &= \\begin{bmatrix}\n",
    "           1 \\\\\n",
    "           3 \\\\\n",
    "           -4\n",
    "         \\end{bmatrix}, \\textbf{v} = \\begin{bmatrix}\n",
    "           2 \\\\\n",
    "           1 \\\\\n",
    "           5\n",
    "         \\end{bmatrix}, \\textbf{w} = \\begin{bmatrix}\n",
    "           3 \\\\\n",
    "           -2 \\\\\n",
    "           6\n",
    "         \\end{bmatrix}\n",
    "  \\end{align}\n",
    "<br>\n",
    "<br>\n",
    "<br>"
   ]
  },
  {
   "cell_type": "markdown",
   "id": "b7a26a60",
   "metadata": {},
   "source": [
    "a. $3\\textbf{u}-2\\textbf{v}$<br>\n",
    "**Manual Solution**\n",
    "$$\n",
    "\\begin{align*}\n",
    "    3\\textbf{u} - 2\\textbf{v} \n",
    "        &= 3\\begin{bmatrix}\n",
    "                1 \\\\\n",
    "                3 \\\\\n",
    "                -4\n",
    "            \\end{bmatrix} &- \n",
    "            2\\begin{bmatrix}\n",
    "                2 \\\\\n",
    "                1 \\\\\n",
    "                5\n",
    "            \\end{bmatrix} \\\\\n",
    "        &= \\begin{bmatrix}\n",
    "                3 \\\\\n",
    "                9 \\\\\n",
    "                -12\n",
    "            \\end{bmatrix} &- \n",
    "            \\begin{bmatrix}\n",
    "                4 \\\\\n",
    "                2 \\\\\n",
    "                10\n",
    "            \\end{bmatrix} \\\\\n",
    "        &= \\begin{bmatrix}\n",
    "                -1 \\\\\n",
    "                7 \\\\\n",
    "                -22\n",
    "            \\end{bmatrix} \n",
    "\\end{align*}\n",
    "$$\n",
    "**Pythonic Solution**"
   ]
  },
  {
   "cell_type": "code",
   "execution_count": 34,
   "id": "cd53cd56",
   "metadata": {},
   "outputs": [
    {
     "name": "stdout",
     "output_type": "stream",
     "text": [
      "3u - 2v = [ -1   7 -22]\n"
     ]
    }
   ],
   "source": [
    "import numpy as np\n",
    "\n",
    "u = np.array([1, 3, -4])\n",
    "v = np.array([2, 1, 5])\n",
    "w = np.array([3, -2, 6])\n",
    "\n",
    "print(\"3u - 2v =\", 3*u - 2*v)"
   ]
  },
  {
   "cell_type": "markdown",
   "id": "b35a805b",
   "metadata": {},
   "source": [
    "b. $5\\textbf{u}+3\\textbf{v}-4\\textbf{w}$<br>\n",
    "**Manual Solution**\n",
    "$$\n",
    "\\begin{align*}\n",
    "    5\\textbf{u} + 3\\textbf{v} - 4\\textbf{w}\n",
    "        &= 5\\begin{bmatrix}\n",
    "                1 \\\\\n",
    "                3 \\\\\n",
    "                -4\n",
    "            \\end{bmatrix} &+ \n",
    "            3\\begin{bmatrix}\n",
    "                2 \\\\\n",
    "                1 \\\\\n",
    "                5\n",
    "            \\end{bmatrix} &-\n",
    "            4\\begin{bmatrix}\n",
    "                3 \\\\\n",
    "                -2 \\\\\n",
    "                6\n",
    "            \\end{bmatrix} \\\\\n",
    "        &= \\begin{bmatrix}\n",
    "                5 \\\\\n",
    "                15 \\\\\n",
    "                -20\n",
    "            \\end{bmatrix} &+ \n",
    "            \\begin{bmatrix}\n",
    "                6 \\\\\n",
    "                3 \\\\\n",
    "                15\n",
    "            \\end{bmatrix} &-\n",
    "            \\begin{bmatrix}\n",
    "                12 \\\\\n",
    "                -8 \\\\\n",
    "                24\n",
    "            \\end{bmatrix} \\\\\n",
    "        &= \\begin{bmatrix}\n",
    "                -1 \\\\\n",
    "                26 \\\\\n",
    "                -29\n",
    "            \\end{bmatrix} \n",
    "\\end{align*}\n",
    "$$\n",
    "\n",
    "**Pythonic Solution**"
   ]
  },
  {
   "cell_type": "code",
   "execution_count": 37,
   "id": "d702bcff",
   "metadata": {},
   "outputs": [
    {
     "name": "stdout",
     "output_type": "stream",
     "text": [
      "5u + 3v - 4w = [ -1  26 -29]\n"
     ]
    }
   ],
   "source": [
    "import numpy as np\n",
    "\n",
    "u = np.array([1, 3, -4])\n",
    "v = np.array([2, 1, 5])\n",
    "w = np.array([3, -2, 6])\n",
    "\n",
    "print(\"5u + 3v - 4w =\", 5*u + 3*v - 4*w)"
   ]
  },
  {
   "cell_type": "markdown",
   "id": "0a08f23a",
   "metadata": {},
   "source": [
    "c. $\\textbf{u} \\cdotp \\textbf{v}$,$\\textbf{v} \\cdotp \\textbf{w}$, $\\textbf{u} \\cdotp \\textbf{w}$<br>\n",
    "**Manual Solution**\n",
    "$$\n",
    "\\begin{align*}\n",
    "    \\textbf{u} \\cdotp \\textbf{v} &= (1)(2) + (3)(1) + (-4)(5) \\\\\n",
    "    &= 2 + 3 - 20 \\\\\n",
    "    &= -15 \\\\\n",
    "    \\textbf{v} \\cdotp \\textbf{w} &= (2)(3) + (1)(-2) + (5)(6) \\\\\n",
    "    &= 6 - 2 + 30 \\\\\n",
    "    &= 34 \\\\\n",
    "    \\textbf{u} \\cdotp \\textbf{w} &= (1)(3) + (3)(-2) + (-4)(6) \\\\\n",
    "    &= 3 - 6 - 24 \\\\\n",
    "    &= -27\n",
    "\\end{align*}\n",
    "$$\n",
    "**Pythonic Solution**"
   ]
  },
  {
   "cell_type": "code",
   "execution_count": 36,
   "id": "5adb1a83",
   "metadata": {},
   "outputs": [
    {
     "name": "stdout",
     "output_type": "stream",
     "text": [
      "u.v = -15\n",
      "v.w = 34\n",
      "u.w = -27\n"
     ]
    }
   ],
   "source": [
    "import numpy as np\n",
    "\n",
    "u = np.array([1, 3, -4])\n",
    "v = np.array([2, 1, 5])\n",
    "w = np.array([3, -2, 6])\n",
    "\n",
    "print(\"u.v =\", u.dot(v))\n",
    "print(\"v.w =\", v.dot(w))\n",
    "print(\"u.w =\", u.dot(w))"
   ]
  },
  {
   "cell_type": "markdown",
   "id": "a1bb70f0",
   "metadata": {},
   "source": [
    "d. ||$\\textbf{u}$||, ||$\\textbf{v}$||, ||$\\textbf{w}$||<br>\n",
    "**Manual Solution**\n",
    "$$\n",
    "\\begin{align*}\n",
    "    ||\\textbf{u}|| &= \\sqrt{1^2 + 3^2 + (-4)^2} \\\\\n",
    "    &= \\sqrt{1 + 9 + 16} \\\\\n",
    "    &= \\sqrt{26} \\\\\n",
    "    ||\\textbf{v}|| &= \\sqrt{2^2 + 1^2 + 5^2} \\\\\n",
    "    &= \\sqrt{4 + 1 + 25} \\\\\n",
    "    &= \\sqrt{30} \\\\\n",
    "    ||\\textbf{w}|| &= \\sqrt{3^2 + (-2)^2 + 6^2} \\\\\n",
    "    &= \\sqrt{9 + 4 + 36} \\\\\n",
    "    &= \\sqrt{49} \\\\\n",
    "    &= 7\n",
    "\\end{align*}\n",
    "$$\n",
    "**Pythonic Solution**"
   ]
  },
  {
   "cell_type": "code",
   "execution_count": 35,
   "id": "8d564ac6",
   "metadata": {},
   "outputs": [
    {
     "name": "stdout",
     "output_type": "stream",
     "text": [
      "||u1|| = 5.0990195135927845\n",
      "||u2|| = 5.0990195135927845\n",
      "\n",
      "||v1|| = 5.477225575051661\n",
      "||v2|| = 5.477225575051661\n",
      "\n",
      "||w1|| = 7.0\n",
      "||w2|| = 7.0\n"
     ]
    }
   ],
   "source": [
    "import numpy as np\n",
    "\n",
    "u = np.array([1, 3, -4])\n",
    "v = np.array([2, 1, 5])\n",
    "w = np.array([3, -2, 6])\n",
    "\n",
    "print(\"||u1|| =\", np.sqrt(26))\n",
    "print(\"||u2|| =\", np.linalg.norm(u))\n",
    "print()\n",
    "print(\"||v1|| =\", np.sqrt(30))\n",
    "print(\"||v2|| =\", np.linalg.norm(v))\n",
    "print()\n",
    "print(\"||w1|| =\", np.sqrt(49))\n",
    "print(\"||w2|| =\", np.linalg.norm(w))"
   ]
  },
  {
   "cell_type": "markdown",
   "id": "c5205a21",
   "metadata": {},
   "source": [
    "e. If $\\theta$ is the angle between $\\textbf{u}$  and   $\\textbf{v}$, find $\\cos{\\theta}$.<br>\n",
    "**Manual Solution**\n",
    "$$\n",
    "\\begin{align*}\n",
    "    cos\\ \\theta &= \\frac{\\textbf{u} \\cdotp \\textbf{v}}{||\\textbf{u}||\\ ||\\textbf{v}||} \\\\ \n",
    "        &= \\frac{(1)(2) + (3)(1) + (-4)(5)}{\\sqrt{1^2 + 3^2 + (-4)^2}\\sqrt{2^2 + 1^2 + 5^2}} \\\\\n",
    "        &= \\frac{2 + 3 - 20}{\\sqrt{1 + 9 + 16}\\sqrt{4 + 1 + 25}} \\\\\n",
    "        &= -(\\frac{15}{\\sqrt{26}\\sqrt{30}})\n",
    "\\end{align*}\n",
    "$$\n",
    "**Pythonic Solution**"
   ]
  },
  {
   "cell_type": "code",
   "execution_count": 38,
   "id": "2de63957",
   "metadata": {},
   "outputs": [
    {
     "name": "stdout",
     "output_type": "stream",
     "text": [
      "a1 = -0.5370861555295747\n",
      "a2 = -0.5370861555295747\n"
     ]
    }
   ],
   "source": [
    "import numpy as np\n",
    "\n",
    "u = np.array([1, 3, -4])\n",
    "v = np.array([2, 1, 5])\n",
    "w = np.array([3, -2, 6])\n",
    "\n",
    "print(\"a1 =\", -15 / (np.sqrt(26) * np.sqrt(30)))\n",
    "print(\"a2 =\", u.dot(v) / (np.linalg.norm(u) * np.linalg.norm(v)))"
   ]
  },
  {
   "cell_type": "markdown",
   "id": "ff231995",
   "metadata": {},
   "source": [
    "f. If $\\alpha$ is the angle between $\\textbf{v}$  and   $\\textbf{w}$, find $\\cos{\\alpha}$.<br>\n",
    "**Manual Solution**\n",
    "$$\n",
    "\\begin{align*}\n",
    "    cos\\ \\alpha &= \\frac{\\textbf{v} \\cdotp \\textbf{w}}{||\\textbf{v}||\\ ||\\textbf{w}||} \\\\\n",
    "        &= \\frac{(2)(3) + (1)(-2) + (5)(6)}{\\sqrt{2^2 + 1^2 + 5^2}\\sqrt{3^2 + (-2)^2 + 6^2}} \\\\\n",
    "        &= \\frac{6 - 2 + 30}{\\sqrt{4 + 1 + 25}\\sqrt{9 + 4 + 36}} \\\\\n",
    "        &= \\frac{34}{\\sqrt{30}\\sqrt{49}} \\\\\n",
    "        &= \\frac{34}{7\\sqrt{30}}\n",
    "\\end{align*}\n",
    "$$\n",
    "**Pythonic Solution**"
   ]
  },
  {
   "cell_type": "code",
   "execution_count": 39,
   "id": "49635d2a",
   "metadata": {},
   "outputs": [
    {
     "name": "stdout",
     "output_type": "stream",
     "text": [
      "a1 = 0.8867889026274118\n",
      "a2 = 0.8867889026274118\n"
     ]
    }
   ],
   "source": [
    "import numpy as np\n",
    "\n",
    "u = np.array([1, 3, -4])\n",
    "v = np.array([2, 1, 5])\n",
    "w = np.array([3, -2, 6])\n",
    "\n",
    "print(\"a1 =\", 34 / (7 * np.sqrt(30)))\n",
    "print(\"a2 =\", v.dot(w) / (np.linalg.norm(v) * np.linalg.norm(w)))"
   ]
  },
  {
   "cell_type": "markdown",
   "id": "1561839d",
   "metadata": {},
   "source": [
    "g. If $\\alpha$ is the angle between $\\textbf{v}$  and   $\\textbf{w}$, find $\\cos{\\alpha}$.<br>\n",
    "**Manual Solution**\n",
    "$$\n",
    "\\begin{align*}\n",
    "    cos\\ \\beta &= \\frac{\\textbf{u} \\cdotp \\textbf{w}}{||\\textbf{u}||\\ ||\\textbf{w}||} \\\\\n",
    "        &= \\frac{(1)(3) + (3)(-2) + (-4)(6)}{\\sqrt{1^2 + 3^2 + (-4)^2}\\sqrt{3^2 + (-2)^2 + 6^2}} \\\\\n",
    "        &= \\frac{3 - 6 - 24}{\\sqrt{1 + 9 + 16}{9 + 4 + 36}} \\\\\n",
    "        &= -(\\frac{27}{\\sqrt{26}\\sqrt{49}}) \\\\\n",
    "        &= -(\\frac{27}{7\\sqrt{26}})\n",
    "\\end{align*}\n",
    "$$\n",
    "**Pythonic Solution**"
   ]
  },
  {
   "cell_type": "code",
   "execution_count": 40,
   "id": "aef4a3d9",
   "metadata": {},
   "outputs": [
    {
     "name": "stdout",
     "output_type": "stream",
     "text": [
      "a1 = -0.7564479498187099\n",
      "a2 = -0.7564479498187099\n"
     ]
    }
   ],
   "source": [
    "import numpy as np\n",
    "\n",
    "u = np.array([1, 3, -4])\n",
    "v = np.array([2, 1, 5])\n",
    "w = np.array([3, -2, 6])\n",
    "\n",
    "print(\"a1 =\", -27 / (7 * np.sqrt(26)))\n",
    "print(\"a2 =\", u.dot(w) / (np.linalg.norm(u) * np.linalg.norm(w)))"
   ]
  },
  {
   "cell_type": "markdown",
   "id": "307f781d",
   "metadata": {},
   "source": [
    "h. Find $d(\\textbf{u},\\textbf{v})$.<br>\n",
    "**Manual Solution**\n",
    "$$\n",
    "\\begin{align*}\n",
    "    d(\\textbf{u}, \\textbf{v}) &= ||\\textbf{u} - \\textbf{v}|| \\\\\n",
    "        &= \\sqrt{(1 - 2)^2 + (3 - 1)^2 + (-4 - 5)^2} \\\\\n",
    "        &= \\sqrt{(-1)^2 + 2^2 + (-9)^2} \\\\\n",
    "        &= \\sqrt{1 + 4 + 81} \\\\\n",
    "        &= \\sqrt{86}\n",
    "\\end{align*}\n",
    "$$\n",
    "**Pythonic Solution**"
   ]
  },
  {
   "cell_type": "code",
   "execution_count": 41,
   "id": "d20eb873",
   "metadata": {},
   "outputs": [
    {
     "name": "stdout",
     "output_type": "stream",
     "text": [
      "d1(u,v) = 9.273618495495704\n",
      "d2(u,v) = 9.273618495495704\n"
     ]
    }
   ],
   "source": [
    "import numpy as np\n",
    "\n",
    "u = np.array([1, 3, -4])\n",
    "v = np.array([2, 1, 5])\n",
    "w = np.array([3, -2, 6])\n",
    "\n",
    "print(\"d1(u,v) =\", np.sqrt(86))\n",
    "print(\"d2(u,v) =\", np.linalg.norm(u - v))"
   ]
  },
  {
   "cell_type": "markdown",
   "id": "897abb89",
   "metadata": {},
   "source": [
    "i. Find $d(\\textbf{w},\\textbf{v})$.<br>\n",
    "**Manual Solution**\n",
    "$$\n",
    "\\begin{align*}\n",
    "    d(\\textbf{w}, \\textbf{v}) &= ||\\textbf{w} - \\textbf{v}|| \\\\\n",
    "        &= \\sqrt{(3 - 2)^2 + (-2 - 1)^2 + (6 - 5)^2} \\\\\n",
    "        &= \\sqrt{1^2 + (-3)^2 + 1^2} \\\\\n",
    "        &= \\sqrt{1 + 9 + 1} \\\\\n",
    "        &= \\sqrt{11}\n",
    "\\end{align*}\n",
    "$$\n",
    "**Pythonic Solution**"
   ]
  },
  {
   "cell_type": "code",
   "execution_count": 42,
   "id": "b9010586",
   "metadata": {},
   "outputs": [
    {
     "name": "stdout",
     "output_type": "stream",
     "text": [
      "d1(w,v) = 3.3166247903554\n",
      "d2(w,v) = 3.3166247903554\n"
     ]
    }
   ],
   "source": [
    "import numpy as np\n",
    "\n",
    "u = np.array([1, 3, -4])\n",
    "v = np.array([2, 1, 5])\n",
    "w = np.array([3, -2, 6])\n",
    "\n",
    "print(\"d1(w,v) =\", np.sqrt(11))\n",
    "print(\"d2(w,v) =\", np.linalg.norm(w - v))"
   ]
  },
  {
   "cell_type": "markdown",
   "id": "740a29f4",
   "metadata": {},
   "source": [
    "j. Find $d(\\textbf{u},\\textbf{w})$. <br>\n",
    "**Manual Solution**\n",
    "$$\n",
    "\\begin{align*}\n",
    "    d(\\textbf{u}, \\textbf{w}) &= ||\\textbf{u} - \\textbf{w}|| \\\\\n",
    "        &= \\sqrt{(1 - 3)^2 + (3 - (-2))^2 + (-4 - 6)^2} \\\\\n",
    "        &= \\sqrt{(-2)^2 + 5^2 + (-10)^2} \\\\\n",
    "        &= \\sqrt{4 + 25 + 100} \\\\\n",
    "        &= \\sqrt{129}\n",
    "\\end{align*}\n",
    "$$\n",
    "**Pythonic Solution**"
   ]
  },
  {
   "cell_type": "code",
   "execution_count": 43,
   "id": "ff2e0480",
   "metadata": {},
   "outputs": [
    {
     "name": "stdout",
     "output_type": "stream",
     "text": [
      "d1(u,w) = 11.357816691600547\n",
      "d2(u,w) = 11.357816691600547\n"
     ]
    }
   ],
   "source": [
    "import numpy as np\n",
    "\n",
    "u = np.array([1, 3, -4])\n",
    "v = np.array([2, 1, 5])\n",
    "w = np.array([3, -2, 6])\n",
    "\n",
    "print(\"d1(u,w) =\", np.sqrt(129))\n",
    "print(\"d2(u,w) =\", np.linalg.norm(u - w))"
   ]
  },
  {
   "cell_type": "markdown",
   "id": "5fa1dbf5",
   "metadata": {},
   "source": [
    "k. Find $proj(\\textbf{u},\\textbf{v})$.<br>\n",
    "**Manual Solution**\n",
    "$$\n",
    "\\begin{align*}\n",
    "    proj(\\textbf{u},\\textbf{v}) &= \\frac{\\textbf{u} \\cdotp \\textbf{v}}{||\\textbf{v}||^2}\\textbf{v} \\\\\n",
    "        &= \\frac{(1)(2) + (3)(1) + (-4)(5)}{\\sqrt{2^2 + 1^2 + 5^2}^2}(2, 1, 5) \\\\\n",
    "        &= \\frac{2 + 3 - 20}{\\sqrt{4 + 1 + 25}^2}(2, 1, 5) \\\\\n",
    "        &= \\frac{-15}{\\sqrt{30}^2}(2, 1, 5) \\\\\n",
    "        &= \\frac{-15}{30}(2, 1, 5) \\\\\n",
    "        &= \\frac{-1}{2}(2, 1, 5) \\\\\n",
    "        &= (-(1),-(\\frac{1}{2}),-(2\\frac{1}{2}))\n",
    "\\end{align*}\n",
    "$$\n",
    "**Pythonic Solution**"
   ]
  },
  {
   "cell_type": "code",
   "execution_count": 44,
   "id": "93265768",
   "metadata": {},
   "outputs": [
    {
     "name": "stdout",
     "output_type": "stream",
     "text": [
      "p1(u,v) = [-1.  -0.5 -2.5]\n",
      "p2(u,v) = [-1.  -0.5 -2.5]\n"
     ]
    }
   ],
   "source": [
    "import numpy as np\n",
    "\n",
    "u = np.array([1, 3, -4])\n",
    "v = np.array([2, 1, 5])\n",
    "w = np.array([3, -2, 6])\n",
    "\n",
    "print(\"p1(u,v) =\", np.array([-1, -1/2, -5/2]))\n",
    "print(\"p2(u,v) =\", u.dot(v) * v / np.linalg.norm(v) ** 2)"
   ]
  },
  {
   "cell_type": "markdown",
   "id": "c0f7c2b7",
   "metadata": {},
   "source": [
    "l. Find $proj(\\textbf{w},\\textbf{v})$.<br>\n",
    "**Manual Solution**\n",
    "$$\n",
    "\\begin{align*}\n",
    "    proj(\\textbf{w},\\textbf{v}) &= \\frac{\\textbf{w} \\cdotp \\textbf{v}}{||\\textbf{v}||^2}\\textbf{v} \\\\\n",
    "        &= \\frac{(3)(2) + (-2)(1) + (6)(5)}{\\sqrt{2^2 + 1^2 + 5^2}^2}(2, 1, 5) \\\\\n",
    "        &= \\frac{6 - 2 + 30}{\\sqrt{4 + 1 + 25}^2}(2, 1, 5) \\\\\n",
    "        &= \\frac{34}{\\sqrt{30}^2}(2, 1, 5) \\\\\n",
    "        &= \\frac{34}{30}(2, 1, 5) \\\\\n",
    "        &= \\frac{17}{15}(2, 1, 5) \\\\\n",
    "        &= (2\\frac{4}{15},1\\frac{2}{15},5\\frac{2}{3})\n",
    "\\end{align*}\n",
    "$$\n",
    "**Pythonic Solution**"
   ]
  },
  {
   "cell_type": "code",
   "execution_count": 45,
   "id": "206670d9",
   "metadata": {},
   "outputs": [
    {
     "name": "stdout",
     "output_type": "stream",
     "text": [
      "p1(w,v) = [2.26666667 1.13333333 5.66666667]\n",
      "p2(w,v) = [2.26666667 1.13333333 5.66666667]\n"
     ]
    }
   ],
   "source": [
    "import numpy as np\n",
    "\n",
    "u = np.array([1, 3, -4])\n",
    "v = np.array([2, 1, 5])\n",
    "w = np.array([3, -2, 6])\n",
    "\n",
    "print(\"p1(w,v) =\", np.array([34/15, 17/15, 17/3]))\n",
    "print(\"p2(w,v) =\", w.dot(v) * v / np.linalg.norm(v) ** 2)"
   ]
  },
  {
   "cell_type": "markdown",
   "id": "c87f1f74",
   "metadata": {},
   "source": [
    "m. Find $proj(\\textbf{u},\\textbf{w})$. <br> \n",
    "**Manual Solution**\n",
    "$$\n",
    "\\begin{align*}\n",
    "    proj(\\textbf{u},\\textbf{w}) &= \\frac{\\textbf{u} \\cdotp \\textbf{w}}{||\\textbf{w}||^2}\\textbf{w} \\\\\n",
    "        &= \\frac{(1)(3) + (3)(-2) + (-4)(6)}{\\sqrt{3^2 + (-2)^2 + 6^2}^2}(3, -2, 6) \\\\\n",
    "        &= \\frac{3 - 6 - 24}{\\sqrt{9 + 4 + 36}^2}(3, -2, 6) \\\\\n",
    "        &= \\frac{-27}{\\sqrt{49}^2}(3, -2, 6) \\\\\n",
    "        &= \\frac{-27}{49}(3, -2, 6) \\\\\n",
    "        &= (-(1\\frac{32}{49}),1\\frac{3}{49},-(3\\frac{15}{49}))\n",
    "\\end{align*}\n",
    "$$\n",
    "**Pythonic Solution**"
   ]
  },
  {
   "cell_type": "code",
   "execution_count": null,
   "id": "61082e4c",
   "metadata": {},
   "outputs": [],
   "source": [
    "import numpy as np\n",
    "\n",
    "u = np.array([1, 3, -4])\n",
    "v = np.array([2, 1, 5])\n",
    "w = np.array([3, -2, 6])\n",
    "\n",
    "print(\"proj(u,w) =\", np.array([-81/49, 54/49, -162/49]))\n",
    "print(\"proj(u,w) =\", u.dot(w) * w / np.linalg.norm(w) ** 2)"
   ]
  },
  {
   "cell_type": "markdown",
   "id": "5e6f3de9",
   "metadata": {},
   "source": [
    "3. Let $\\textbf{u} = (2,-5,4,6,-3)$ and $\\textbf{v} = (5,-2,,1,-7,-4)$ $\\textbf{w} = (2,1,-3)$ find:<br>"
   ]
  },
  {
   "cell_type": "markdown",
   "id": "c860b019",
   "metadata": {},
   "source": [
    "a. $4\\textbf{u}-3\\textbf{v}$<br>\n",
    "**Manual Solution**\n",
    "$$\n",
    "\\begin{align*}\n",
    "    4\\textbf{u} - 3\\textbf{v} &= 4(2, -5, 4, 6, -3) - 3(5, -2, 1, -7, -4) \\\\\n",
    "        &= (8, -20, 16, 24, -12) - (15, -6, 3, -21, -12) \\\\\n",
    "        &= (-7, -14, 13, 45, 0)\n",
    "\\end{align*}\n",
    "$$\n",
    "**Pythonic Solution**"
   ]
  },
  {
   "cell_type": "code",
   "execution_count": 47,
   "id": "c3a2428d",
   "metadata": {},
   "outputs": [
    {
     "name": "stdout",
     "output_type": "stream",
     "text": [
      "4u - 3v = [ -7 -14  13  45   0]\n"
     ]
    }
   ],
   "source": [
    "import numpy as np\n",
    "\n",
    "u = np.array([2,-5,4,6,-3])\n",
    "v = np.array([5,-2,1,-7,-4])\n",
    "w = np.array([2,1,-3])\n",
    "\n",
    "print(\"4u - 3v =\", 4*u - 3*v)"
   ]
  },
  {
   "cell_type": "markdown",
   "id": "71f80096",
   "metadata": {},
   "source": [
    "b. $5\\textbf{u}+2\\textbf{v}-2\\textbf{w}$<br>\n",
    "**Manual Solution**\n",
    "$$\n",
    "\\begin{align*}\n",
    "    5\\textbf{u} + 2\\textbf{v} - 2\\textbf{w} &= 5(2, -5, 4, 6, -3) + 2(5, -2, 1, -7, -4) - 2(2, 1, -3) \\\\\n",
    "        &= 5(2, -5, 4, 6, -3) + 2(5, -2, 1, -7, -4) - 2(2, 1, -3, 0, 0) &&\\text{extend } \\textbf{w} \\text{ from } \\mathbb{R}^3 \\rightarrow \\mathbb{R}^5 \\\\ \n",
    "        &= (10, -25, 20, 30, -15) + (10, -4, 2, -14, -8) - (4, 2, -6, 0, 0) \\\\\n",
    "        &= (16, -31, 28, 16, -23)\n",
    "\\end{align*}\n",
    "$$\n",
    "**Pythonic Solution**"
   ]
  },
  {
   "cell_type": "code",
   "execution_count": 49,
   "id": "a011438d",
   "metadata": {},
   "outputs": [
    {
     "name": "stdout",
     "output_type": "stream",
     "text": [
      "5u + 2v - 2w = [ 16 -31  28  16 -23]\n"
     ]
    }
   ],
   "source": [
    "import numpy as np\n",
    "\n",
    "u = np.array([2,-5,4,6,-3])\n",
    "v = np.array([5,-2,1,-7,-4])\n",
    "w = np.array([2,1,-3,0,0])\n",
    "\n",
    "print(\"5u + 2v - 2w =\", 5*u + 2*v - 2*w)"
   ]
  },
  {
   "cell_type": "markdown",
   "id": "52f6d0f0",
   "metadata": {},
   "source": [
    "c. $\\textbf{u} \\cdotp \\textbf{v}$,$\\textbf{v} \\cdotp \\textbf{w}$, $\\textbf{u} \\cdotp \\textbf{w}$<br>\n",
    "**Manual Solution**\n",
    "$$\n",
    "\\begin{align*}\n",
    "    \\textbf{u} \\cdotp \\textbf{v} &= (2)(5) + (-5)(-2) + (4)(1) + (6)(-7) + (-3)(-4) \\\\\n",
    "        &= 10 + 10 + 4 + (-42) + 12 \\\\\n",
    "        &= -6\\\\\n",
    "\n",
    "    \\textbf{v} \\cdotp \\textbf{w} &= (5)(2) + (-2)(1) + (1)(-3) + (-7)(0) + (-4)(0) \\\\\n",
    "        &= 10 + (-2) + (-3) + 0 + 0 \\\\\n",
    "        &= 5\\\\\n",
    "\n",
    "    \\textbf{u} \\cdotp \\textbf{v} &= (2)(2) + (-5)(1) + (4)(-3) + (6)(0) + (-3)(0) \\\\\n",
    "        &= 4 + (-5) + (-12) + 0 + 0 \\\\\n",
    "        &= -13\n",
    "\\end{align*}\n",
    "$$\n",
    "**Pythonic Solution**\n"
   ]
  },
  {
   "cell_type": "code",
   "execution_count": 56,
   "id": "4c97e49c",
   "metadata": {},
   "outputs": [
    {
     "name": "stdout",
     "output_type": "stream",
     "text": [
      "u.v = -6\n",
      "v.w = 5\n",
      "u.w = -13\n"
     ]
    }
   ],
   "source": [
    "import numpy as np\n",
    "\n",
    "u = np.array([2,-5,4,6,-3])\n",
    "v = np.array([5,-2,1,-7,-4])\n",
    "w = np.array([2,1,-3,0,0])\n",
    "\n",
    "print('u.v =', u.dot(v))\n",
    "print('v.w =', v.dot(w))\n",
    "print('u.w =', u.dot(w))"
   ]
  },
  {
   "cell_type": "markdown",
   "id": "a8a09f08",
   "metadata": {},
   "source": [
    "d. ||$\\textbf{u}$||, ||$\\textbf{v}$||, ||$\\textbf{w}$||<br>\n",
    "**Manual Solution**\n",
    "$$\n",
    "\\begin{align*}\n",
    "    ||\\textbf{u}|| &= \\sqrt{2^2 + (-5)^2 + 4^2 + 6^2 + (-3)^2} \\\\\n",
    "        &= \\sqrt{4 + 25 + 16 + 36 + 9} \\\\\n",
    "        &= \\sqrt{90}\\\\\n",
    "\n",
    "    ||\\textbf{v}|| &= \\sqrt{5^2 + (-2)^2 + 1^2 + (-7)^2 + (-4)^2} \\\\\n",
    "        &= \\sqrt{25 + 4 + 1 + 49 + 16} \\\\\n",
    "        &= \\sqrt{95}\\\\\n",
    "\n",
    "    ||\\textbf{w}|| &= \\sqrt{2^2 + 1^2 + (-3)^2 + 0^2 + 0^2} \\\\\n",
    "        &= \\sqrt{4 + 1 + 9 + 0 + 0} \\\\\n",
    "        &= \\sqrt{14}\n",
    "\\end{align*}\n",
    "$$\n",
    "**Pythonic Solution**"
   ]
  },
  {
   "cell_type": "code",
   "execution_count": 53,
   "id": "1c951d65",
   "metadata": {},
   "outputs": [
    {
     "name": "stdout",
     "output_type": "stream",
     "text": [
      "||u|| =  9.486832980505138\n",
      "||v|| =  9.746794344808963\n",
      "||w|| =  2.23606797749979\n"
     ]
    }
   ],
   "source": [
    "import numpy as np\n",
    "\n",
    "u = np.array([2,-5,4,6,-3])\n",
    "v = np.array([5,-2,1,-7,-4])\n",
    "w = np.array([2,1,-3,0,0])\n",
    "\n",
    "print('||u|| = ', np.sqrt(u.dot(u)))\n",
    "print('||v|| = ', np.sqrt(v.dot(v)))\n",
    "print('||w|| = ', np.sqrt(v.dot(w)))"
   ]
  },
  {
   "cell_type": "markdown",
   "id": "9693bea3",
   "metadata": {},
   "source": [
    "e. If $\\theta$ is the angle between $\\textbf{u}$  and   $\\textbf{v}$, find $\\cos{\\theta}$.<br>\n",
    "**Manual Solution**\n",
    "$$\n",
    "\\begin{align*}\n",
    "    \\cos \\theta &= \\frac{\\textbf{u} \\cdotp \\textbf{v}}{||\\textbf{u}|| ||\\textbf{v}||} \\\\\n",
    "        &= \\frac{(2)(5) + (-5)(-2) + (4)(1) + (6)(-7) + (-3)(-4)}{\\sqrt{2^2 + (-5)^2 + 4^2 + 6^2 + (-3)^2}\n",
    "            \\sqrt{5^2 + (-2)^2 + 1^2 + (-7)^2 + (-4)^2}} \\\\\n",
    "        &= \\frac{10 + 10 + 4 + (-42) + 12}{\\sqrt{4 + 25 + 16 + 36 + 9} \\sqrt{25 + 4 + 1 + 49 + 16}} \\\\\n",
    "        &= \\frac{-6}{\\sqrt{90} \\sqrt{95}}\n",
    "\\end{align*}\n",
    "$$\n",
    "**Pythonic Solution**"
   ]
  },
  {
   "cell_type": "code",
   "execution_count": 54,
   "id": "ba4ebee7",
   "metadata": {},
   "outputs": [
    {
     "name": "stdout",
     "output_type": "stream",
     "text": [
      "a = -0.06488856845230502\n"
     ]
    }
   ],
   "source": [
    "import numpy as np\n",
    "\n",
    "u = np.array([2,-5,4,6,-3])\n",
    "v = np.array([5,-2,1,-7,-4])\n",
    "w = np.array([2,1,-3])\n",
    "\n",
    "print(\"a =\",u.dot(v)/(np.linalg.norm(u)*np.linalg.norm(v)))"
   ]
  },
  {
   "cell_type": "markdown",
   "id": "6210a9be",
   "metadata": {},
   "source": [
    "f. If $\\alpha$ is the angle between $\\textbf{v}$  and   $\\textbf{w}$, find $\\cos{\\alpha}$.<br>\n",
    "**Manual Solution**\n",
    "$$\n",
    "\\begin{align*}\n",
    "    \\cos \\alpha &= \\frac{\\textbf{v} \\cdotp \\textbf{w}}{||\\textbf{v}|| ||\\textbf{w}||} \\\\\n",
    "        &= \\frac{(5)(2) + (-2)(1) + (1)(-3) + (-7)(0) + (-4)(0)}{\\sqrt{5^2 + (-2)^2 + 1^2 + (-7)^2 + (-4)^2}\n",
    "            \\sqrt{2^2 + 1^2 + (-3)^2 + 0^2 + 0^2}} \\\\\n",
    "        &= \\frac{10 + (-2) + (-3) + 0 + 0}{\\sqrt{25 + 4 + 1 + 49 + 16} \\sqrt{4 + 1 + 9 + 0 + 0}} \\\\\n",
    "        &= \\frac{5}{\\sqrt{95} \\sqrt{14}}\n",
    "\\end{align*}\n",
    "$$\n",
    "**Pythonic Solution**"
   ]
  },
  {
   "cell_type": "code",
   "execution_count": null,
   "id": "eb2c6557",
   "metadata": {},
   "outputs": [],
   "source": [
    "import numpy as np\n",
    "\n",
    "u = np.array([2,-5,4,6,-3])\n",
    "v = np.array([5,-2,1,-7,-4])\n",
    "w = np.array([2,1,-3])\n",
    "\n",
    "print(\"a  =\",v.dot(w)/(np.linalg.norm(v)*np.linalg.norm(w)))"
   ]
  },
  {
   "cell_type": "markdown",
   "id": "a85fc192",
   "metadata": {},
   "source": [
    "g. If $\\beta$ is the angle between $\\textbf{u}$  and   $\\textbf{w}$, find $\\cos{\\beta}$.<br>\n",
    "**Manual Solution**\n",
    "$$\n",
    "\\begin{align*}\n",
    "    \\cos \\beta &= \\frac{\\textbf{u} \\cdotp \\textbf{w}}{||\\textbf{u}|| ||\\textbf{w}||} \\\\\n",
    "        &= \\frac{(2)(2) + (-5)(1) + (4)(-3) + (6)(0) + (-3)(0)}{\\sqrt{2^2 + (-5)^2 + 4^2 + 6^2 + (-3)^2}\n",
    "            \\sqrt{2^2 + 1^2 + (-3)^2 + 0^2 + 0^2}} \\\\\n",
    "        &= \\frac{4 + (-5) + (-12) + 0 + 0}{\\sqrt{4 + 25 + 16 + 36 + 9} \\sqrt{4 + 1 + 9 + 0 + 0}} \\\\\n",
    "        &= \\frac{-13}{\\sqrt{90} \\sqrt{14}}\n",
    "\\end{align*}\n",
    "$$\n",
    "**Pythonic Solution**"
   ]
  },
  {
   "cell_type": "code",
   "execution_count": null,
   "id": "10df46f7",
   "metadata": {},
   "outputs": [],
   "source": [
    "import numpy as np\n",
    "\n",
    "u = np.array([2,-5,4,6,-3])\n",
    "v = np.array([5,-2,1,-7,-4])\n",
    "w = np.array([2,1,-3])\n",
    "\n",
    "print(\"t  =\",u.dot(w)/(np.linalg.norm(u)*np.linalg.norm(w)))"
   ]
  },
  {
   "cell_type": "markdown",
   "id": "c7fa0a62",
   "metadata": {},
   "source": [
    "h. Find $d(\\textbf{u},\\textbf{v})$.<br>\n",
    "**Manual Solution**\n",
    "$$\n",
    "\\begin{align*}\n",
    "    d(\\textbf{u}, \\textbf{v}) &= ||\\textbf{u - v}|| \\\\\n",
    "        &= \\sqrt{(2 - 5)^2 + ((-5) - (-2))^2 + (4 - 1)^2 + (6 - (-7))^2 + ((-3) - (-4))^2} \\\\\n",
    "        &= \\sqrt{(-3)^2 + (-3)^2 + 3^2 + 13^2 + 1^2} \\\\\n",
    "        &= \\sqrt{9 + 9 + 9 + 169 + 1} \\\\\n",
    "        &= \\sqrt{197}\n",
    "\\end{align*}\n",
    "$$\n",
    "**Pythonic Solution**"
   ]
  },
  {
   "cell_type": "code",
   "execution_count": null,
   "id": "220a5e2a",
   "metadata": {},
   "outputs": [],
   "source": [
    "import numpy as np\n",
    "\n",
    "u = np.array([2,-5,4,6,-3])\n",
    "v = np.array([5,-2,1,-7,-4])\n",
    "w = np.array([2,1,-3])\n",
    "\n",
    "print(\"d(u,v) = \", np.linalg.norm(u-v))"
   ]
  },
  {
   "cell_type": "markdown",
   "id": "0a335473",
   "metadata": {},
   "source": [
    "i. Find $d(\\textbf{w},\\textbf{v})$.<br>\n",
    "**Manual Solution**\n",
    "$$\n",
    "\\begin{align*}\n",
    "    d(\\textbf{w}, \\textbf{v}) &= ||\\textbf{w - v}|| \\\\\n",
    "        &= \\sqrt{(2 - 5)^2 + (1 - (-2))^2 + ((-3) - 1)^2 + (0 - (-7))^2 + (0 - (-4))^2} \\\\\n",
    "        &= \\sqrt{(-3)^2 + 3^2 + 4^2 + 7^2 + 4^2} \\\\\n",
    "        &= \\sqrt{9 + 9 + 16 + 49 + 16} \\\\\n",
    "        &= \\sqrt{99}\n",
    "\\end{align*}\n",
    "$$\n",
    "**Pythonic Solution**"
   ]
  },
  {
   "cell_type": "code",
   "execution_count": null,
   "id": "a881a8fc",
   "metadata": {},
   "outputs": [],
   "source": [
    "import numpy as np\n",
    "\n",
    "u = np.array([2,-5,4,6,-3])\n",
    "v = np.array([5,-2,1,-7,-4])\n",
    "w = np.array([2,1,-3])\n",
    "\n",
    "print(\"d(w,v) = \", np.linalg.norm(w-v))"
   ]
  },
  {
   "cell_type": "markdown",
   "id": "594f6403",
   "metadata": {},
   "source": [
    "j. Find $d(\\textbf{u},\\textbf{w})$. <br>\n",
    "**Manual Solution**\n",
    "$$\n",
    "\\begin{align*}\n",
    "    d(\\textbf{u}, \\textbf{w}) &= ||\\textbf{u - w}|| \\\\\n",
    "        &= \\sqrt{(2 - 2)^2 + ((-5) - 1)^2 + (4 - (-3))^2 + (6 - 0)^2 + ((-3) - 0)^2} \\\\\n",
    "        &= \\sqrt{0^2 + (-6)^2 + 7^2 + 6^2 + (-3)^2} \\\\\n",
    "        &= \\sqrt{0 + 36 + 49 + 36 + 9} \\\\\n",
    "        &= \\sqrt{130}\n",
    "\\end{align*}\n",
    "$$\n",
    "**Pythonic Solution**"
   ]
  },
  {
   "cell_type": "code",
   "execution_count": null,
   "id": "2f82f7f5",
   "metadata": {},
   "outputs": [],
   "source": [
    "import numpy as np\n",
    "\n",
    "u = np.array([2,-5,4,6,-3])\n",
    "v = np.array([5,-2,1,-7,-4])\n",
    "w = np.array([2,1,-3])\n",
    "\n",
    "print(\"d(u,w) = \", np.linalg.norm(u-w))"
   ]
  },
  {
   "cell_type": "markdown",
   "id": "18fd45b6",
   "metadata": {},
   "source": [
    "k. Find $proj(\\textbf{u},\\textbf{v})$.<br>\n",
    "**Manual Solution**\n",
    "$$\n",
    "\\begin{align*}\n",
    "    proj(\\textbf{u}, \\textbf{v}) &= \\frac{\\textbf{u} \\cdotp \\textbf{v}}{||\\textbf{v}||^2}\\textbf{v} \\\\\n",
    "        &= \\frac{(2)(5) + (-5)(-2) + (4)(1) + (6)(-7) + (-3)(-4)}{(\\sqrt{5^2 + (-2)^2 + 1^2 + (-7)^2 + (-4)^2})^2} (5, -2, 1, -7, -4) \\\\\n",
    "        &= \\frac{10 + 10 + 4 + (-42) + 12}{(\\sqrt{25 + 4 + 1 + 49 + 16})^2} (5, -2, 1, -7, -4) \\\\\n",
    "        &= \\frac{-6}{(\\sqrt{95})^2} (5, -2, 1, -7, -4) \\\\\n",
    "        &= \\frac{-6}{95} (5, -2, 1, -7, -4) \\\\\n",
    "        &= (\\frac{-6}{19}, \\frac{12}{95}, \\frac{-6}{95}, \\frac{42}{95}, \\frac{24}{95})\n",
    "\\end{align*}\n",
    "$$\n",
    "**Pythonic Solution**"
   ]
  },
  {
   "cell_type": "code",
   "execution_count": null,
   "id": "57d5bdde",
   "metadata": {},
   "outputs": [],
   "source": [
    "import numpy as np\n",
    "\n",
    "u = np.array([2,-5,4,6,-3])\n",
    "v = np.array([5,-2,1,-7,-4])\n",
    "w = np.array([2,1,-3])\n",
    "\n",
    "print(\"p(u,v) = \",u.dot(v)*v/(np.linalg.norm(v)**2))"
   ]
  },
  {
   "cell_type": "markdown",
   "id": "43735887",
   "metadata": {},
   "source": [
    "l. Find $proj(\\textbf{w},\\textbf{v})$.<br>\n",
    "**Manual Solution**\n",
    "$$\n",
    "\\begin{align*}\n",
    "    proj(\\textbf{w}, \\textbf{v}) &= \\frac{\\textbf{w} \\cdotp \\textbf{v}}{||\\textbf{v}||^2}\\textbf{v} \\\\\n",
    "        &= \\frac{(2)(5) + (1)(-2) + (-3)(1) + (0)(-7) + (0)(-4)}{(\\sqrt{5^2 + (-2)^2 + 1^2 + (-7)^2 + (-4)^2})^2} (5, -2, 1, -7, -4) \\\\\n",
    "        &= \\frac{10 + (-2) + (-3) + 0 + 0}{(\\sqrt{25 + 4 + 1 + 49 + 16})^2} (5, -2, 1, -7, -4) \\\\\n",
    "        &= \\frac{5}{(\\sqrt{95})^2} (5, -2, 1, -7, -4) \\\\\n",
    "        &= \\frac{5}{95} (5, -2, 1, -7, -4) \\\\\n",
    "        &= (\\frac{5}{19}, \\frac{-2}{19}, \\frac{5}{95}, \\frac{-7}{19}, \\frac{-4}{19})\n",
    "\\end{align*}\n",
    "$$\n",
    "**Pythonic Solution**"
   ]
  },
  {
   "cell_type": "code",
   "execution_count": null,
   "id": "ec2fc408",
   "metadata": {},
   "outputs": [],
   "source": [
    "import numpy as np\n",
    "\n",
    "u = np.array([2,-5,4,6,-3])\n",
    "v = np.array([5,-2,1,-7,-4])\n",
    "w = np.array([2,1,-3])\n",
    "\n",
    "print(\"p(w,v) = \",w.dot(v)*v/(np.linalg.norm(v)**2) )"
   ]
  },
  {
   "cell_type": "markdown",
   "id": "52cd2ba5",
   "metadata": {},
   "source": [
    "m. Find $proj(\\textbf{u},\\textbf{w})$. <br> \n",
    "**Manual Solution**\n",
    "$$\n",
    "\\begin{align*}\n",
    "    proj(\\textbf{u}, \\textbf{w}) &= \\frac{\\textbf{u} \\cdotp \\textbf{w}}{||\\textbf{w}||^2}\\textbf{w} \\\\\n",
    "        &= \\frac{(2)(2) + (-5)(1) + (4)(-3) + (6)(0) + (-3)(0)}{(\\sqrt{2^2 + 1^2 + (-3)^2 + 0^2 + 0^2})^2} (2, 1, -3, 0, 0) \\\\\n",
    "        &= \\frac{4 + (-5) + (-12) + 0 + 0}{(\\sqrt{4 + 1 + 9 + 0 + 0})^2} (2, 1, -3, 0, 0) \\\\\n",
    "        &= \\frac{-13}{(\\sqrt{14})^2} (2, 1, -3, 0, 0) \\\\\n",
    "        &= \\frac{-13}{14} (2, 1, -3, 0, 0) \\\\\n",
    "        &= (\\frac{-13}{7}, \\frac{-13}{14}, \\frac{39}{14}, 0, 0)\n",
    "\\end{align*}\n",
    "$$\n",
    "**Pythonic Solution**"
   ]
  },
  {
   "cell_type": "code",
   "execution_count": null,
   "id": "a847fb59",
   "metadata": {},
   "outputs": [],
   "source": [
    "import numpy as np\n",
    "\n",
    "u = np.array([2,-5,4,6,-3])\n",
    "v = np.array([5,-2,1,-7,-4])\n",
    "w = np.array([2,1,-3])\n",
    "\n",
    "print(\"p(u,w) = \",u.dot(w)*w/(np.linalg.norm(w)**2))"
   ]
  },
  {
   "cell_type": "markdown",
   "id": "c9f2a06c",
   "metadata": {},
   "source": [
    "<br>\n",
    "<br>\n",
    "4. Normalize each vector:\n"
   ]
  },
  {
   "cell_type": "markdown",
   "id": "f7cd61ab",
   "metadata": {},
   "source": [
    "a. $\\textbf{u}$ = (5,-7).<br>\n",
    "**Manual Solution**\n",
    "$$\n",
    "\\begin{align*}\n",
    "    \\textbf{u}' = \\frac{\\textbf{u}}{||\\textbf{u}||} &= \\frac{(5, -7)}{\\sqrt{5^2 + (-7)^2}} \\\\\n",
    "        &= \\frac{(5, -7)}{\\sqrt{25 + 49}} \\\\\n",
    "        &= \\frac{(5, -7)}{\\sqrt{74}} \\\\\n",
    "        &= (\\frac{5}{\\sqrt{74}}, -\\frac{7}{\\sqrt{74}})\n",
    "\\end{align*}\n",
    "$$\n",
    "**Pythonic Solution**"
   ]
  },
  {
   "cell_type": "code",
   "execution_count": null,
   "id": "36fcbb0d",
   "metadata": {},
   "outputs": [],
   "source": [
    "import numpy as np\n",
    "\n",
    "u = np.array([5,-7])\n",
    "\n",
    "print(\"u' = \", u/np.sqrt(u.dot(u)))"
   ]
  },
  {
   "cell_type": "markdown",
   "id": "bad5d405",
   "metadata": {},
   "source": [
    "b. $\\textbf{v}$ = (1,2,-2,4).<br>\n",
    "**Manual Solution**\n",
    "$$\n",
    "\\begin{align*}\n",
    "    \\textbf{v}' = \\frac{\\textbf{v}}{||\\textbf{v}||} &= \\frac{(1, 2, -2, 4)}{\\sqrt{1^2 + 2^2 + (-2)^2 + 4^2}} \\\\\n",
    "        &= \\frac{(1, 2, -2, 4)}{\\sqrt{1 + 4 + 4 + 16}} \\\\\n",
    "        &= \\frac{(1, 2, -2, 4)}{\\sqrt{25}} \\\\\n",
    "        &= \\frac{(1, 2, -2, 4)}{5} \\\\\n",
    "        &= (\\frac{1}{5}, \\frac{2}{5}, -(\\frac{2}{5}), \\frac{4}{5}) \n",
    "\\end{align*}\n",
    "$$\n",
    "**Pythonic Solution**"
   ]
  },
  {
   "cell_type": "code",
   "execution_count": null,
   "id": "d28627c4",
   "metadata": {},
   "outputs": [],
   "source": [
    "import numpy as np\n",
    "\n",
    "v = np.array([1,2,-2,4])\n",
    "\n",
    "print(\"v' = \", v/np.sqrt(v.dot(v)))"
   ]
  },
  {
   "cell_type": "markdown",
   "id": "a3ba794c",
   "metadata": {},
   "source": [
    "c. $\\textbf{w} = (\\frac{1}{2},\\frac{-1}{3},\\frac{3}{4})$.<br>\n",
    "**Manual Solution**\n",
    "$$\n",
    "\\begin{align*}\n",
    "    \\textbf{w}' = \\frac{\\textbf{w}}{||\\textbf{w}||} &= \\frac{(\\frac{1}{2}, -(\\frac{1}{3}), \\frac{3}{4})}{\\sqrt{(\\frac{1}{2})^2 + (-(\\frac{1}{3}))^2 + (\\frac{3}{4})^2}} \\\\\n",
    "        &= \\frac{(\\frac{1}{2}, -(\\frac{1}{3}), \\frac{3}{4})}{\\sqrt{\\frac{1}{4} + \\frac{1}{9} + \\frac{9}{16}}} \\\\\n",
    "        &= \\frac{(\\frac{1}{2}, -(\\frac{1}{3}), \\frac{3}{4})}{\\sqrt{\\frac{36}{144} + \\frac{16}{144} + \\frac{81}{144}}} \\\\\n",
    "        &= \\frac{(\\frac{1}{2}, -(\\frac{1}{3}), \\frac{3}{4})}{\\sqrt{\\frac{133}{144}}} \\\\\n",
    "        &= \\frac{(\\frac{1}{2}, -(\\frac{1}{3}), \\frac{3}{4})}{\\frac{\\sqrt{133}}{12}} \\\\\n",
    "        &= \\frac{12}{\\sqrt{133}}(\\frac{1}{2}, -(\\frac{1}{3}), \\frac{3}{4}) \\\\\n",
    "        &= (\\frac{6}{\\sqrt{133}}, -\\frac{4}{\\sqrt{133}}, \\frac{9}{\\sqrt{133}}) \\\\\n",
    "\\end{align*}\n",
    "$$\n",
    "**Pythonic Solution**"
   ]
  },
  {
   "cell_type": "code",
   "execution_count": null,
   "id": "9385dedc",
   "metadata": {},
   "outputs": [],
   "source": [
    "import numpy as np\n",
    "\n",
    "w = np.array([(1/2),-(1/3),(3/4)])\n",
    "\n",
    "print(\"w' = \", w/np.sqrt(w.dot(w)))"
   ]
  },
  {
   "cell_type": "markdown",
   "metadata": {},
   "source": [
    "<br>\n",
    "<br>\n",
    "\n",
    "5. Let $\\textbf{u} = (1,2,-2)$,$\\textbf{v} = (3,-12,4)$ and a scalar $k = -3$: <br>\n",
    "Find $||u||, ||v||, ||u+v||, ||ku||$.<br>\n",
    "<br>\n",
    "<br>\n",
    "\n",
    "**Manual Solution** <br>\n",
    "\n",
    "Solution for $||\\textbf{u}||$:\n",
    "$$\n",
    "\\begin{align*}\n",
    "    ||\\textbf{u}|| &= \\sqrt{1^2 + 2^2 + (-2)^2} \\\\\n",
    "        &= \\sqrt{1 + 4 + 4} \\\\\n",
    "        &= \\sqrt{9} \\\\\n",
    "        &= 3\n",
    "\\end{align*}\n",
    "$$\n",
    "\n",
    "Solution for $||\\textbf{v}||$:\n",
    "$$\n",
    "\\begin{align*}\n",
    "    ||\\textbf{v}|| &= \\sqrt{3^2 + (-12)^2 + 4^2} \\\\\n",
    "        &= \\sqrt{9 + 144 + 16} \\\\\n",
    "        &= \\sqrt{169} \\\\\n",
    "        &= 13\n",
    "\\end{align*}\n",
    "$$\n",
    "\n",
    "Solution for $||\\textbf{u} + \\textbf{v}||$:\n",
    "$$\n",
    "\\begin{align*}\n",
    "    ||\\textbf{u} + \\textbf{v}|| &= \\sqrt{(1 + 3)^2 + (2 + (-12))^2 + (-2 + 4)^2} \\\\\n",
    "        &= \\sqrt{4^2 + (-10)^2 + 2^2} \\\\\n",
    "        &= \\sqrt{16 + 100 + 4} \\\\\n",
    "        &= \\sqrt{120} \\\\\n",
    "        &= 2\\sqrt{30}\n",
    "\\end{align*}\n",
    "$$\n",
    "\n",
    "Solution for $||k\\textbf{u}||$:\n",
    "$$\n",
    "\\begin{align*}\n",
    "    ||k\\textbf{u}|| &= \\sqrt{((-3)(1))^2 + ((-3)(2))^2 + ((-3)(-2))^2} \\\\\n",
    "        &= \\sqrt{(-3)^2 + (-6)^2 + (6)^2} \\\\\n",
    "        &= \\sqrt{9 + 36 + 36} \\\\\n",
    "        &= \\sqrt{81} \\\\\n",
    "        &= 9\n",
    "\\end{align*}\n",
    "$$\n",
    "**Pythonic Solution**"
   ]
  },
  {
   "cell_type": "code",
   "execution_count": 58,
   "id": "0d7cdcdc",
   "metadata": {},
   "outputs": [
    {
     "name": "stdout",
     "output_type": "stream",
     "text": [
      "||u|| =  3.0\n",
      "||v|| =  13.0\n",
      "|| u + v || =  16.0\n",
      "||ku|| =  -9.0\n"
     ]
    }
   ],
   "source": [
    "import numpy as np\n",
    "\n",
    "u = np.array([1,2,-2])\n",
    "v = np.array([3,-12,4])\n",
    "k = -3\n",
    "\n",
    "print('||u|| = ', np.sqrt(u.dot(u)))\n",
    "print('||v|| = ', np.sqrt(v.dot(v)))\n",
    "print('|| u + v || = ', (np.sqrt(u.dot(u))+np.sqrt(v.dot(v))))\n",
    "print('||ku|| = ',k*np.sqrt(u.dot(u)))"
   ]
  },
  {
   "cell_type": "markdown",
   "id": "e30d6f6d",
   "metadata": {},
   "source": [
    "6. Find k so that $\\textbf{u}  \\ and \\  \\textbf{v}$ are orthogonal.\n"
   ]
  },
  {
   "cell_type": "markdown",
   "id": "d772cfe2",
   "metadata": {},
   "source": [
    "a. $\\textbf{u} = (3, k, -2), \\textbf{v} = (6, -4, -3)$.<br>\n",
    "**Manual Solution**\n",
    "$$\n",
    "\\begin{align*}\n",
    "    \\textbf{u} \\cdotp \\textbf{v} &= 0 \\\\\n",
    "        (3)(6) + (\\textbf{k})(-4) + (-2)(-3) &= 0 \\\\\n",
    "        18 + (-4k) + 6 &= 0 \\\\\n",
    "        -4k + 24 &= 0 \\\\\n",
    "        \\frac{-4k}{-4} &= \\frac{-24}{-4} \\\\\n",
    "        k &= 6\n",
    "\\end{align*}\n",
    "$$\n",
    "**Pythonic Solution**"
   ]
  },
  {
   "cell_type": "code",
   "execution_count": null,
   "id": "ff2cf61c",
   "metadata": {},
   "outputs": [],
   "source": [
    "import numpy as np\n",
    "\n",
    "k = 6\n",
    "u = np.array([3 ,k,-2])\n",
    "v = np.array([6,-4,-3])\n",
    "ortho = u.dot(v)\n",
    "\n",
    "print('k = ',k)\n",
    "if ortho == 0:\n",
    "    print('Orthogonal')\n",
    "else:\n",
    "    print('NOT orthogonal')"
   ]
  },
  {
   "cell_type": "markdown",
   "id": "4ced45fd",
   "metadata": {},
   "source": [
    "b. $\\textbf{u} = (5,k,-4,2), \\textbf{v} = (1,-3,2,2k)$.<br>\n",
    "**Manual Solution**\n",
    "$$\n",
    "\\begin{align*}\n",
    "    \\textbf{u} \\cdotp \\textbf{v} &= 0 \\\\\n",
    "        (5)(1) + (\\textbf{k})(-3) + (-4)(2) + (2)(2)(\\textbf{k})&= 0 \\\\\n",
    "        5 + (-3k) + (-8) + (4k) &= 0 \\\\\n",
    "        k - 3 &= 0 \\\\\n",
    "        k &= 3\n",
    "\\end{align*}\n",
    "$$\n",
    "**Pythonic Solution**"
   ]
  },
  {
   "cell_type": "code",
   "execution_count": null,
   "id": "8a8ab5d2",
   "metadata": {},
   "outputs": [],
   "source": [
    "import numpy as np\n",
    "\n",
    "k = 3\n",
    "u = np.array([5 ,k,-4,2])\n",
    "v = np.array([1,-3,2,2*k])\n",
    "\n",
    "ortho = u.dot(v)\n",
    "\n",
    "print('k = ',k)\n",
    "if ortho == 0:\n",
    "    print('Orthogonal.')\n",
    "else:\n",
    "    print('NOT orthogonal.')\n"
   ]
  },
  {
   "cell_type": "markdown",
   "id": "96ab2e2b",
   "metadata": {},
   "source": [
    "c. $\\textbf{u} = (1,7,k+2,-2), \\textbf{v} = (3,, k, -3,k)$.<br>\n",
    "**Manual Solution**\n",
    "$$\n",
    "\\begin{align*}\n",
    "    \\textbf{u} \\cdotp \\textbf{v} &= 0 \\\\\n",
    "    (1)(3) + (7)(\\textbf{k}) + (\\textbf{k} + 2)(-3) + (-2)(\\textbf{k}) &= 0 \\\\\n",
    "    3 + 7\\textbf{k} + (-3\\textbf{k} - 6) + -2\\textbf{k} &= 0 \\\\\n",
    "    7\\textbf{k} -3\\textbf{k} -2\\textbf{k} + 3 - 6 &= 0 \\\\\n",
    "    2k - 3 &= 0 \\\\\n",
    "    \\frac{2k}{2} &= \\frac{3}{2} \\\\\n",
    "    k &= \\frac{3}{2}\n",
    "\\end{align*}\n",
    "$$\n",
    "**Pythonic Solution**"
   ]
  },
  {
   "cell_type": "code",
   "execution_count": null,
   "id": "89b8e103",
   "metadata": {},
   "outputs": [],
   "source": [
    "import numpy as np\n",
    "\n",
    "k = 3/2\n",
    "u = np.array([1,7,k+2,-2])\n",
    "v = np.array([3,k,-3,k])\n",
    "\n",
    "ortho = u.dot(v)\n",
    "\n",
    "print('k = ',k)\n",
    "if ortho == 0:\n",
    "    print('Orthogonal.')\n",
    "else:\n",
    "    print('NOT orthogonal.')"
   ]
  }
 ],
 "metadata": {
  "kernelspec": {
   "display_name": "Python 3 (ipykernel)",
   "language": "python",
   "name": "python3"
  },
  "language_info": {
   "codemirror_mode": {
    "name": "ipython",
    "version": 3
   },
   "file_extension": ".py",
   "mimetype": "text/x-python",
   "name": "python",
   "nbconvert_exporter": "python",
   "pygments_lexer": "ipython3",
   "version": "3.11.4"
  }
 },
 "nbformat": 4,
 "nbformat_minor": 5
}
