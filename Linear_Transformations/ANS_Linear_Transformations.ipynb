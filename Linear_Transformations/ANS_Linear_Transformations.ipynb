{
 "cells": [
  {
   "cell_type": "markdown",
   "metadata": {},
   "source": [
    "# Linear Transformations"
   ]
  },
  {
   "cell_type": "code",
   "execution_count": 35,
   "metadata": {},
   "outputs": [],
   "source": [
    "import random\n",
    "import numpy as np"
   ]
  },
  {
   "cell_type": "markdown",
   "metadata": {},
   "source": [
    "# Code Challenges"
   ]
  },
  {
   "cell_type": "markdown",
   "metadata": {},
   "source": [
    "**1. Develop a python function from scratch that will find the determinants of any $n$ x $n$ matrix.**"
   ]
  },
  {
   "cell_type": "code",
   "execution_count": 36,
   "metadata": {},
   "outputs": [],
   "source": [
    "def calc_det(matrix):\n",
    "    assert len(matrix) == 0 or all(isinstance(row, list) for row in matrix) and len(matrix) == len(matrix[0]), \"Matrix should be a square matrix.\"\n",
    "    \n",
    "    size = len(matrix)\n",
    "    \n",
    "    if size == 0:\n",
    "        return 1.0\n",
    "    elif size == 1:\n",
    "        return matrix[0][0]\n",
    "    elif size == 2:\n",
    "        return matrix[0][0] * matrix[1][1] - matrix[0][1] * matrix[1][0] \n",
    "\n",
    "    det = 0.0\n",
    "    for col, cofactor in enumerate(matrix[0]):\n",
    "        submatrix = [[matrix[i][j] for j in range(size) if j != col] for i in range(1, size)]\n",
    "        det += (-1) ** col * cofactor * calc_det(submatrix)\n",
    "\n",
    "    return det"
   ]
  },
  {
   "cell_type": "markdown",
   "metadata": {},
   "source": [
    "**2. Develop a python function from scratch that will find both the eigenvectors and eigenvalues of any $n$ x $n$ matrix.**"
   ]
  },
  {
   "cell_type": "code",
   "execution_count": 37,
   "metadata": {},
   "outputs": [],
   "source": [
    "def mat_eig(matrix, max_iterations=50000):\n",
    "    assert len(matrix) == 0 or all(isinstance(row, list) for row in matrix) and len(matrix) == len(matrix[0]), \"Matrix should be a square matrix.\"\n",
    "\n",
    "    size = len(matrix)\n",
    "    \n",
    "    if size == 0:\n",
    "        return [], []\n",
    "    if size == 1:\n",
    "        return [matrix[0][0]], [[1.]]\n",
    "\n",
    "    eigenvectors = []\n",
    "    eigenvalues = []\n",
    "\n",
    "    for _ in range(size):\n",
    "        # Generate a random guess for the eigenvector with ||eigvec|| = 1\n",
    "        eigvec = [random.random() for _ in range(size)]\n",
    "        norm_eigvec = sum(a ** 2 for a in eigvec) ** 0.5\n",
    "        eigvec = [a / norm_eigvec for a in eigvec]\n",
    "\n",
    "        # Power Method\n",
    "        for _ in range(max_iterations):\n",
    "            tf_eigvec = [sum(a * b for a, b in zip(row, eigvec)) for row in matrix]\n",
    "            \n",
    "            norm_tf = sum(a ** 2 for a in tf_eigvec) ** 0.5\n",
    "            eigvec = [a / norm_tf for a in tf_eigvec]\n",
    "            \n",
    "        eigval = sum(a * b for a, b in zip(tf_eigvec, eigvec))\n",
    "        eigenvalues.append(eigval)\n",
    "        eigenvectors.append(eigvec)\n",
    "\n",
    "        # Deflate Matrix with Weilandt deflation\n",
    "        eigenval_outer_product = [[a * b for b in eigvec] for a in tf_eigvec]\n",
    "        matrix = [[matrix[i][j] - eigenval_outer_product[i][j] for j in range(size)] for i in range(size)]\n",
    "\n",
    "    return eigenvalues, [list(row) for row in zip(*eigenvectors)]"
   ]
  },
  {
   "cell_type": "markdown",
   "metadata": {},
   "source": [
    "**3. Test your functions from a randomly generated $n$ x $n$ matrix.**"
   ]
  },
  {
   "cell_type": "markdown",
   "metadata": {},
   "source": [
    "- Comparison my determinant to the `numpy`'s for an $n$ x $n$ matrix.<br>\n",
    "Test 1:"
   ]
  },
  {
   "cell_type": "code",
   "execution_count": 2,
   "metadata": {},
   "outputs": [
    {
     "name": "stdout",
     "output_type": "stream",
     "text": [
      "-- Matrix --\n",
      "[[3.59579087 0.52234343 0.53467009 0.79377282 2.10952058 1.35392133\n",
      "  4.97209715 1.32656723]\n",
      " [4.47441808 3.08122318 2.9305966  4.73423241 0.54526223 3.43746025\n",
      "  4.02472296 2.95162468]\n",
      " [4.01087728 4.30179912 4.74100644 0.43211081 1.94955347 2.14610044\n",
      "  3.17660395 1.78620921]\n",
      " [3.0052765  1.5652269  2.59061569 0.64487643 1.3736346  0.39744323\n",
      "  3.5550859  1.90460094]\n",
      " [4.48382914 2.44710269 0.69001868 2.75007835 3.65191605 2.74242608\n",
      "  3.47666059 4.45094663]\n",
      " [2.90598375 1.83505528 0.41216087 2.14346273 4.71984652 1.11880704\n",
      "  4.25145167 1.32834167]\n",
      " [3.32868728 1.96962332 2.22905122 4.34694857 1.7803002  3.89229666\n",
      "  3.72748889 1.40952619]\n",
      " [4.67181398 1.10693994 4.34093421 2.0215506  0.8909471  2.6789444\n",
      "  1.49469963 1.44452728]]\n",
      "\n",
      "-- My Matrix Determinant --\n",
      "6415.088508069304\n",
      "\n",
      "-- Numpy Matrix Determinant --\n",
      "6415.088508069305\n",
      "\n",
      "Are my results equal to numpy? Yes.\n"
     ]
    }
   ],
   "source": [
    "# Generate a random 8x8 matrix\n",
    "random_matrix = np.random.random((8, 8)).astype(\"float64\") * 5\n",
    "\n",
    "# Calculate determinants\n",
    "my_result = calc_det(random_matrix.tolist())\n",
    "np_result = np.linalg.det(random_matrix)\n",
    "\n",
    "# Display results\n",
    "print(\"-- Matrix --\", random_matrix, sep=\"\\n\")\n",
    "print(\"\\n-- My Matrix Determinant --\", my_result, sep=\"\\n\")\n",
    "print(\"\\n-- Numpy Matrix Determinant --\", np_result, sep=\"\\n\")\n",
    "print(\"\\nAre my results equal to numpy?\", \"Yes.\" if np.isclose(my_result, np_result) else \"No.\")"
   ]
  },
  {
   "cell_type": "markdown",
   "metadata": {},
   "source": [
    "- Comparison of my eigenvalue and eigenvector algo to the `numpy`'s algo for an $n$ x $n$ matrix.\n",
    "<br>\n",
    "Test 2:"
   ]
  },
  {
   "cell_type": "code",
   "execution_count": 3,
   "metadata": {},
   "outputs": [
    {
     "name": "stdout",
     "output_type": "stream",
     "text": [
      "-- Matrix --\n",
      "[[4.15989526 0.50810703 1.0431367 ]\n",
      " [4.08027029 1.64667948 0.72658524]\n",
      " [1.88339571 2.18610126 4.67200778]]\n",
      "\n",
      "-- My Eigenvalues and Eigenvectors --\n",
      "[6.79091678 2.14419339 1.54347236]\n",
      "[[ 0.40323599 -0.4462923   0.79917862]\n",
      " [ 0.43365206 -0.87972187  0.59945293]\n",
      " [ 0.80582047  0.16405062 -0.04438156]]\n",
      "\n",
      "-- Numpy Eigenvalues and Eigenvectors --\n",
      "[6.79091678 2.14419339 1.54347236]\n",
      "[[-0.40323599  0.20908245  0.08782629]\n",
      " [-0.43365206  0.65719782  0.79094366]\n",
      " [-0.80582047 -0.7241378  -0.60555319]]\n",
      "\n",
      " Are the differences of eigenvalues close? Yes.\n",
      "\n",
      "-- Cosine Similarity of Eigenvectors --\n",
      "[-1.         -0.79025844  0.57119778]\n"
     ]
    }
   ],
   "source": [
    "# Generate a random 3x3 matrix\n",
    "random_matrix = np.random.random((3, 3)).astype(\"float64\") * 5\n",
    "\n",
    "# Calculate eigenvalue and eigenvector\n",
    "np_evector, np_evalue = np.linalg.eig(random_matrix)\n",
    "my_evector, m_evalue = mat_eig(random_matrix.tolist())\n",
    "my_evector, m_evalue = np.array(my_evector), np.array(m_evalue)\n",
    "\n",
    "print(\"-- Matrix --\", random_matrix, sep=\"\\n\")\n",
    "print(\"\\n-- My Eigenvalues and Eigenvectors --\", my_evector, m_evalue, sep=\"\\n\")\n",
    "print(\"\\n-- Numpy Eigenvalues and Eigenvectors --\", np_evector, np_evalue, sep=\"\\n\")\n",
    "\n",
    "print(\"\\n\\n\", \"Are the differences of eigenvalues close?\", \"Yes.\" if np.allclose(my_evector, np_evector) else \"No.\")\n",
    "\n",
    "cosine_similarity = np.array([npe.dot(me) / (np.linalg.norm(me) * np.linalg.norm(npe)) for npe, me in zip(np_evalue.T, m_evalue.T)]).T"
   ]
  },
  {
   "cell_type": "code",
   "execution_count": null,
   "metadata": {},
   "outputs": [],
   "source": []
  }
 ],
 "metadata": {
  "kernelspec": {
   "display_name": "Python 3",
   "language": "python",
   "name": "python3"
  },
  "language_info": {
   "codemirror_mode": {
    "name": "ipython",
    "version": 3
   },
   "file_extension": ".py",
   "mimetype": "text/x-python",
   "name": "python",
   "nbconvert_exporter": "python",
   "pygments_lexer": "ipython3",
   "version": "3.11.4"
  }
 },
 "nbformat": 4,
 "nbformat_minor": 2
}
